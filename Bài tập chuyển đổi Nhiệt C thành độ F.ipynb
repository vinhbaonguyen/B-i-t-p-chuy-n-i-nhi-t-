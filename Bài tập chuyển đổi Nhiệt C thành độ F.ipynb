{
 "cells": [
  {
   "cell_type": "markdown",
   "id": "49cd6097",
   "metadata": {},
   "source": [
    "\"\"\"\n",
    "Nhập vào giá trị độ °C muốn chuyển đổi\n",
    "Tính độ °F tương ứng qua công thức:\n",
    "°F  =  ( °C × 1.8 ) +  32\n",
    "Hiển thị độ °F (In ra màn hình)\n",
    "\"\"\"\n"
   ]
  },
  {
   "cell_type": "code",
   "execution_count": null,
   "id": "cf278bb2",
   "metadata": {},
   "outputs": [],
   "source": [
    "t=float(input(\"Nhập nhiệt độ C muốn chuyển đổi=\"))\n",
    "F==(t * 1.8 ) + 32\n",
    "print(f\"nhiệt độ {t} sau khi chuyển thành độ F kết quả= {F} \")"
   ]
  }
 ],
 "metadata": {
  "kernelspec": {
   "display_name": "Python 3 (ipykernel)",
   "language": "python",
   "name": "python3"
  },
  "language_info": {
   "codemirror_mode": {
    "name": "ipython",
    "version": 3
   },
   "file_extension": ".py",
   "mimetype": "text/x-python",
   "name": "python",
   "nbconvert_exporter": "python",
   "pygments_lexer": "ipython3",
   "version": "3.11.1"
  }
 },
 "nbformat": 4,
 "nbformat_minor": 5
}
